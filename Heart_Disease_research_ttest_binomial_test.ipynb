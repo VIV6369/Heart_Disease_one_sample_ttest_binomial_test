{
 "cells": [
  {
   "cell_type": "markdown",
   "id": "f8ca9c93",
   "metadata": {},
   "source": [
    "***Heart Disease Research Part I, One Sample T-test, Binomial test***\n",
    "\n",
    "In this project, you’ll investigate some data from a sample patients who were evaluated for heart disease at the Cleveland Clinic Foundation. The data was downloaded from the UCI Machine Learning Repository and then cleaned for analysis. \n"
   ]
  },
  {
   "cell_type": "markdown",
   "id": "4304f4bc",
   "metadata": {},
   "source": [
    "First let's load data and investigate dataset"
   ]
  },
  {
   "cell_type": "code",
   "execution_count": 1,
   "id": "b543ff5d",
   "metadata": {},
   "outputs": [
    {
     "name": "stdout",
     "output_type": "stream",
     "text": [
      "    age     sex  trestbps   chol                cp  exang  fbs  thalach  \\\n",
      "0  63.0    male     145.0  233.0    typical angina    0.0  1.0    150.0   \n",
      "1  67.0    male     160.0  286.0      asymptomatic    1.0  0.0    108.0   \n",
      "2  67.0    male     120.0  229.0      asymptomatic    1.0  0.0    129.0   \n",
      "3  37.0    male     130.0  250.0  non-anginal pain    0.0  0.0    187.0   \n",
      "4  41.0  female     130.0  204.0   atypical angina    0.0  0.0    172.0   \n",
      "\n",
      "  heart_disease  \n",
      "0       absence  \n",
      "1      presence  \n",
      "2      presence  \n",
      "3       absence  \n",
      "4       absence  \n"
     ]
    }
   ],
   "source": [
    "import pandas as pd\n",
    "import numpy as np\n",
    "\n",
    "# load data\n",
    "heart = pd.read_csv('heart_disease.csv')\n",
    "print(heart.head())"
   ]
  },
  {
   "cell_type": "markdown",
   "id": "d24a7816",
   "metadata": {},
   "source": [
    "Let's split dataset into two subsets:\n",
    "\n",
    "* yes_hd, which contains data for patients with heart disease\n",
    "* no_hd, which contains data for patients without heart disease\n",
    "\n",
    "For this project, we’ll investigate the following variables:\n",
    "\n",
    "* chol: serum cholestorol in mg/dl\n",
    "* fbs: An indicator for whether fasting blood sugar is greater than 120 mg/dl (1 = true; 0 = false)"
   ]
  },
  {
   "cell_type": "code",
   "execution_count": 3,
   "id": "35656d66",
   "metadata": {},
   "outputs": [],
   "source": [
    "yes_hd = heart[heart.heart_disease == 'presence']\n",
    "no_hd = heart[heart.heart_disease == 'absence']\n",
    "#1 Getting cholesterol for people with heart disease\n",
    "chol_hd = yes_hd.chol"
   ]
  },
  {
   "cell_type": "markdown",
   "id": "f6361bad",
   "metadata": {},
   "source": [
    "In general, total cholesterol over 240 mg/dl is considered “high” (and therefore unhealthy). Calculate the mean cholesterol level for patients who were diagnosed with heart disease and print it out. Is it higher than 240 mg/dl?"
   ]
  },
  {
   "cell_type": "code",
   "execution_count": 4,
   "id": "0f4890a0",
   "metadata": {},
   "outputs": [
    {
     "name": "stdout",
     "output_type": "stream",
     "text": [
      "Average cholesterol for people with heart disease in our dataset is 251.5\n"
     ]
    }
   ],
   "source": [
    "average_chol_yes_hd = np.mean(chol_hd)\n",
    "print(\"Average cholesterol for people with heart disease in our dataset is {}\".format(round(average_chol_yes_hd,1)))"
   ]
  },
  {
   "cell_type": "markdown",
   "id": "16adbac0",
   "metadata": {},
   "source": [
    "Do people with heart disease have high cholesterol levels (greater than or equal to 240 mg/dl) on average? Import the function from scipy.stats that you can use to test the following null and alternative hypotheses:\n",
    "\n",
    "Null: People with heart disease have an average cholesterol level equal to 240 mg/dl\n",
    "Alternative: People with heart disease have an average cholesterol level that is greater than 240 mg/dl\n",
    "Note: Unfortunately, the scipy.stats function we’ve been using does not (at the time of writing) have an alternative parameter to change the alternative hypothesis for this test. Therefore, you’ll have to run a two-sided test. However, since you calculated earlier that the average cholesterol level for heart disease patients is greater than 240 mg/dl, you can calculate the p-value for the one-sided test indicated above simply by dividing the two-sided p-value in half."
   ]
  },
  {
   "cell_type": "markdown",
   "id": "94f7ca1c",
   "metadata": {},
   "source": [
    "Run the hypothesis test and print out the p-value. Can you conclude that heart disease patients have an average cholesterol level significantly greater than 240 mg/dl? Use a significance threshold of 0.05."
   ]
  },
  {
   "cell_type": "code",
   "execution_count": 6,
   "id": "cdeccf0d",
   "metadata": {},
   "outputs": [
    {
     "name": "stdout",
     "output_type": "stream",
     "text": [
      "One sided p-value is 0.0035, it is less than threshold 0.05 which indicates that an average cholesterol level is significantly higher than 240 mg/dl\n"
     ]
    }
   ],
   "source": [
    "#Null Hypothesis: People with heart disease have an average cholesterol level equal to 240 mg/dl\n",
    "from scipy.stats import ttest_1samp\n",
    "tstat, pval = ttest_1samp(chol_hd, 240)\n",
    "print(\"One sided p-value is {}, it is less than threshold 0.05 which indicates that an average cholesterol level is significantly higher than 240 mg/dl\".format(round(pval/2,4)))"
   ]
  },
  {
   "cell_type": "markdown",
   "id": "c3abc877",
   "metadata": {},
   "source": [
    "Repeat steps 1-4 in order to run the same hypothesis test, but for patients in the sample who were not diagnosed with heart disease. Do patients without heart disease have average cholesterol levels significantly above 240 mg/dl?"
   ]
  },
  {
   "cell_type": "code",
   "execution_count": 7,
   "id": "ac35f0d7",
   "metadata": {},
   "outputs": [
    {
     "name": "stdout",
     "output_type": "stream",
     "text": [
      "Average cholesterol for people without heart disease in our dataset is 242.6\n",
      "One sided p-value is 0.264, it is more than threshold 0.05 which indicates that an average cholesterol level is not significantly higher than 240 mg/dl\n"
     ]
    }
   ],
   "source": [
    "# Steps 1-4 for people without heart disease\n",
    "chol_no_hd = no_hd.chol\n",
    "average_chol_no_hd = np.mean(chol_no_hd)\n",
    "print(\"Average cholesterol for people without heart disease in our dataset is {}\".format(round(average_chol_no_hd,1)))\n",
    "tstat, pval = ttest_1samp(chol_no_hd, 240)\n",
    "print(\"One sided p-value is {}, it is more than threshold 0.05 which indicates that an average cholesterol level is not significantly higher than 240 mg/dl\".format(round(pval/2,4)))"
   ]
  },
  {
   "cell_type": "markdown",
   "id": "56c918b2",
   "metadata": {},
   "source": [
    "Let’s now return to the full dataset (saved as heart). How many patients are there in this dataset? Save the number of patients as num_patients and print it out."
   ]
  },
  {
   "cell_type": "code",
   "execution_count": 8,
   "id": "2b11a88d",
   "metadata": {},
   "outputs": [
    {
     "name": "stdout",
     "output_type": "stream",
     "text": [
      "303 patients in heart dataset\n"
     ]
    }
   ],
   "source": [
    "num_patients = len(heart)\n",
    "print(\"{} patients in heart dataset\".format(num_patients))"
   ]
  },
  {
   "cell_type": "markdown",
   "id": "9cbc323c",
   "metadata": {},
   "source": [
    "Remember that the fbs column of this dataset indicates whether or not a patient’s fasting blood sugar was greater than 120 mg/dl (1 means that their fasting blood sugar was greater than 120 mg/dl; 0 means it was less than or equal to 120 mg/dl).\n",
    "\n",
    "Calculate the number of patients with fasting blood sugar greater than 120."
   ]
  },
  {
   "cell_type": "code",
   "execution_count": 11,
   "id": "00516d65",
   "metadata": {},
   "outputs": [
    {
     "name": "stdout",
     "output_type": "stream",
     "text": [
      "There are 45 patients with fasting blood sugar above 120 mg/dl\n"
     ]
    }
   ],
   "source": [
    "num_highfbs_patients = np.sum(heart.fbs == 1)\n",
    "print(\"There are {} patients with fasting blood sugar above 120 mg/dl\".format(num_highfbs_patients))"
   ]
  },
  {
   "cell_type": "markdown",
   "id": "fbfc7eb3",
   "metadata": {},
   "source": [
    "Sometimes, part of an analysis will involve comparing a sample to known population values to see if the sample appears to be representative of the general population.\n",
    "\n",
    "By some estimates, about 8% of the U.S. population had diabetes (diagnosed or undiagnosed) in 1988 when this data was collected. While there are multiple tests that contribute to a diabetes diagnosis, fasting blood sugar levels greater than 120 mg/dl can be indicative of diabetes (or at least, pre-diabetes). If this sample were representative of the population, approximately how many people would you expect to have diabetes? Calculate and print out this number.\n",
    "\n",
    "Is this value similar to the number of patients with a resting blood sugar above 120 mg/dl — or different?"
   ]
  },
  {
   "cell_type": "code",
   "execution_count": 13,
   "id": "1a497f59",
   "metadata": {},
   "outputs": [
    {
     "name": "stdout",
     "output_type": "stream",
     "text": [
      "Percentage of patients with diabetes or pre diabetes based on fbs above 120 is 14.9%, which is almost two times higher than 8%\n"
     ]
    }
   ],
   "source": [
    "diabetes_per = (num_highfbs_patients/num_patients)*100\n",
    "print(\"Percentage of patients with diabetes or pre diabetes based on fbs above 120 is {}%, which is almost two times higher than 8%\".format(round(diabetes_per,1)))"
   ]
  },
  {
   "cell_type": "markdown",
   "id": "3133cfba",
   "metadata": {},
   "source": [
    "Does this sample come from a population in which the rate of fbs > 120 mg/dl is equal to 8%? Import the function from scipy.stats that you can use to test the following null and alternative hypotheses:\n",
    "\n",
    "Null: This sample was drawn from a population where 8% of people have fasting blood sugar > 120 mg/dl\n",
    "Alternative: This sample was drawn from a population where more than 8% of people have fasting blood sugar > 120 mg/dl\n",
    "\n",
    "\n",
    "Run the hypothesis test and print out the p-value. Using a significance threshold of 0.05, can you conclude that this sample was drawn from a population where the rate of fasting blood sugar > 120 mg/dl is significantly greater than 8%?"
   ]
  },
  {
   "cell_type": "code",
   "execution_count": 14,
   "id": "ebc68d42",
   "metadata": {},
   "outputs": [
    {
     "name": "stdout",
     "output_type": "stream",
     "text": [
      "Given that pvalue for alternative hypothesis is 4.689471951448875e-05 and is less than 0.05 threshold we can conclude that this sample was drawn from a population where the rate of fbs > 120 mg/dl is significantly greater than 8%\n"
     ]
    }
   ],
   "source": [
    "from scipy.stats import binom_test\n",
    "p_value = binom_test(45, n=303, p =0.08, alternative = 'greater')\n",
    "print(\"Given that pvalue for alternative hypothesis is {} and is less than 0.05 threshold we can conclude that this sample was drawn from a population where the rate of fbs > 120 mg/dl is significantly greater than 8%\".format(p_value))"
   ]
  },
  {
   "cell_type": "code",
   "execution_count": null,
   "id": "c8cfc55f",
   "metadata": {},
   "outputs": [],
   "source": []
  }
 ],
 "metadata": {
  "kernelspec": {
   "display_name": "Python 3 (ipykernel)",
   "language": "python",
   "name": "python3"
  },
  "language_info": {
   "codemirror_mode": {
    "name": "ipython",
    "version": 3
   },
   "file_extension": ".py",
   "mimetype": "text/x-python",
   "name": "python",
   "nbconvert_exporter": "python",
   "pygments_lexer": "ipython3",
   "version": "3.9.7"
  }
 },
 "nbformat": 4,
 "nbformat_minor": 5
}
